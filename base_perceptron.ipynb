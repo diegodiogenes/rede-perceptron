{
 "cells": [
  {
   "cell_type": "markdown",
   "metadata": {},
   "source": [
    "# Implementação de rede perceptron em python"
   ]
  },
  {
   "cell_type": "markdown",
   "metadata": {},
   "source": [
    "### Objetivo"
   ]
  },
  {
   "cell_type": "markdown",
   "metadata": {},
   "source": [
    "Esse notebook tem como objetivo mostrar uma implementação detalhada de uma rede neural perceptron utilizando python e a biblioteca numpy."
   ]
  },
  {
   "cell_type": "markdown",
   "metadata": {},
   "source": [
    "Como exemplo, utilizaremos o problema clássico de classificação de flores utilizando o famoso dataset iris.csv, com simplificação para duas classes de flores."
   ]
  },
  {
   "cell_type": "code",
   "execution_count": 1,
   "metadata": {},
   "outputs": [],
   "source": [
    "# Carregando as bibliotecas que iremos utilizar\n",
    "import numpy as np\n",
    "import matplotlib.pyplot as plt\n",
    "import seaborn as sns"
   ]
  },
  {
   "cell_type": "code",
   "execution_count": 2,
   "metadata": {},
   "outputs": [],
   "source": [
    "# Carregando funções auxiliares\n",
    "from funcoes_utils import carregar_dados"
   ]
  },
  {
   "cell_type": "code",
   "execution_count": 3,
   "metadata": {},
   "outputs": [],
   "source": [
    "# Abrindo o nosso dataset utilizando a função carregar_dados\n",
    "header, features, saida_y = carregar_dados('iris.csv')"
   ]
  },
  {
   "cell_type": "markdown",
   "metadata": {},
   "source": [
    "Plotando os valores das features teremos um gráfico que claramente pode ser separado linearmente, ou seja, podemos aplicar a rede perceptron para solucionar nosso problema de classificação de flores"
   ]
  },
  {
   "cell_type": "code",
   "execution_count": 12,
   "metadata": {
    "scrolled": true
   },
   "outputs": [
    {
     "data": {
      "text/plain": [
       "Text(0,0.5,'Sepal Length')"
      ]
     },
     "execution_count": 12,
     "metadata": {},
     "output_type": "execute_result"
    },
    {
     "data": {
      "image/png": "[encoded data removed]",
      "text/plain": [
       "<Figure size 432x288 with 1 Axes>"
      ]
     },
     "metadata": {
      "needs_background": "light"
     },
     "output_type": "display_data"
    }
   ],
   "source": [
    "plt.scatter(features[:,1],features[:,0], c=saida_y)\n",
    "plt.title(\"Setosa x versicolor\" )\n",
    "plt.xlabel('Sepal Width')\n",
    "plt.ylabel('Sepal Length')"
   ]
  },
  {
   "cell_type": "code",
   "execution_count": 43,
   "metadata": {},
   "outputs": [],
   "source": [
    "#Criaremos a classe perceptron\n",
    "\n",
    "class Perceptron(object):\n",
    "    def __init__(self, alpha=0.01, n_features=4, n_iter = 2000):\n",
    "        self.pesos = np.random.uniform(-1,1, n_features+1) # adicionamos +1 por causa do bias\n",
    "        self.alpha = 0.01\n",
    "        self.n_epocas = n_iter\n",
    "        self.bias = 1\n",
    "    \n",
    "    def funcao_ativacao(self, y):\n",
    "        if y >= 0.0:\n",
    "            return 1\n",
    "        else:\n",
    "            return 0\n",
    "    \n",
    "    def treinamento_perceptron(self, features, resultados):\n",
    "        #inserindo o bias de 1 nas nossas features\n",
    "        features = np.insert(features[:,], len(features[0]), self.bias, axis=1)\n",
    "        for i in range(self.n_epocas):\n",
    "            #print(\"Estamos na época: {}\".format(i))\n",
    "            erro = 0\n",
    "            for j, linha in enumerate(features):\n",
    "                y = self.pesos.dot(linha)\n",
    "                if self.funcao_ativacao(y) != resultados[j]:\n",
    "                    erro +=1\n",
    "                    self.pesos += self.alpha*(resultados[j] - y)*linha\n",
    "            if erro == 0:\n",
    "                print(\"Script encerrado em época: {}\".format(i))\n",
    "                break\n",
    "     \n",
    "    def predicao(self, dados):\n",
    "        # podemos passar um conjunto de valores ou apenas um vetor de uma dimensao\n",
    "        if np.ndim(dados) == 1:\n",
    "            dados = np.insert(dados,len(dados),self.bias) #inserindo o bias\n",
    "            return self.funcao_ativacao(self.pesos.dot(dados)) # realizando a predição\n",
    "        else: #se tivermos um conjuntno de dados com mais de uma dimensão\n",
    "            dados = np.insert(dados[:,], len(dados[0]), self.bias, axis=1) #inserindo o bias\n",
    "            resultado_predicao = [self.funcao_ativacao(self.pesos.dot(linha)) for linha in dados]\n",
    "            return resultado_predicao"
   ]
  },
  {
   "cell_type": "code",
   "execution_count": 44,
   "metadata": {},
   "outputs": [],
   "source": [
    "perceptron = Perceptron(n_features=4)\n",
    "perceptron.treinamento_perceptron(features, saida_y)"
   ]
  },
  {
   "cell_type": "code",
   "execution_count": 45,
   "metadata": {},
   "outputs": [],
   "source": [
    "predicoes = perceptron.predicao(features)"
   ]
  },
  {
   "cell_type": "code",
   "execution_count": 46,
   "metadata": {},
   "outputs": [],
   "source": [
    "# podemos criar uma função para calcular a acurácia\n",
    "def acuracia(saida_y, predictions):\n",
    "    correct = 0\n",
    "    for x in range(len(saida_y)):\n",
    "        if saida_y[x] == predictions[x]:#Compara os respectivos valores\n",
    "            correct += 1\n",
    "    return float(correct)/len(saida_y)"
   ]
  },
  {
   "cell_type": "code",
   "execution_count": 47,
   "metadata": {},
   "outputs": [
    {
     "data": {
      "text/plain": [
       "0.99"
      ]
     },
     "execution_count": 47,
     "metadata": {},
     "output_type": "execute_result"
    }
   ],
   "source": [
    "acuracia(saida_y, predicoes)"
   ]
  },
  {
   "cell_type": "code",
   "execution_count": null,
   "metadata": {},
   "outputs": [],
   "source": []
  }
 ],
 "metadata": {
  "kernelspec": {
   "display_name": "Python 3",
   "language": "python",
   "name": "python3"
  },
  "language_info": {
   "codemirror_mode": {
    "name": "ipython",
    "version": 3
   },
   "file_extension": ".py",
   "mimetype": "text/x-python",
   "name": "python",
   "nbconvert_exporter": "python",
   "pygments_lexer": "ipython3",
   "version": "3.7.0"
  }
 },
 "nbformat": 4,
 "nbformat_minor": 2
}
